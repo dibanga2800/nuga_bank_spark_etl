{
 "cells": [
  {
   "cell_type": "code",
   "execution_count": null,
   "id": "ee3dfbbb",
   "metadata": {},
   "outputs": [],
   "source": []
  }
 ],
 "metadata": {
  "kernelspec": {
   "display_name": "pyspark_env",
   "language": "python",
   "name": "python3"
  },
  "language_info": {
   "name": "python",
   "version": "3.11.13"
  }
 },
 "nbformat": 4,
 "nbformat_minor": 5
}
