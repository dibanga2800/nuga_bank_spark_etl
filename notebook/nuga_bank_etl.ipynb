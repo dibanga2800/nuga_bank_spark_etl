{
 "cells": [
  {
   "cell_type": "markdown",
   "id": "b2a1bde7",
   "metadata": {},
   "source": [
    "### Import Necessary dependencies\n"
   ]
  },
  {
   "cell_type": "code",
   "execution_count": 44,
   "id": "0e3e76a5",
   "metadata": {},
   "outputs": [],
   "source": [
    "from pyspark.sql import SparkSession\n",
    "import pandas as pd\n",
    "from sqlalchemy import create_engine\n",
    "from pyspark.sql.functions import monotonically_increasing_id\n"
   ]
  },
  {
   "cell_type": "code",
   "execution_count": 2,
   "id": "480a63c5",
   "metadata": {},
   "outputs": [],
   "source": [
    "# initialize Spark Session\n",
    "spark = SparkSession.builder.appName('NugaBankETL').getOrCreate()"
   ]
  },
  {
   "cell_type": "code",
   "execution_count": 3,
   "id": "c051b2cc",
   "metadata": {},
   "outputs": [
    {
     "data": {
      "text/html": [
       "\n",
       "            <div>\n",
       "                <p><b>SparkSession - in-memory</b></p>\n",
       "                \n",
       "        <div>\n",
       "            <p><b>SparkContext</b></p>\n",
       "\n",
       "            <p><a href=\"http://host.docker.internal:4041\">Spark UI</a></p>\n",
       "\n",
       "            <dl>\n",
       "              <dt>Version</dt>\n",
       "                <dd><code>v3.5.6</code></dd>\n",
       "              <dt>Master</dt>\n",
       "                <dd><code>local[*]</code></dd>\n",
       "              <dt>AppName</dt>\n",
       "                <dd><code>NugaBankETL</code></dd>\n",
       "            </dl>\n",
       "        </div>\n",
       "        \n",
       "            </div>\n",
       "        "
      ],
      "text/plain": [
       "<pyspark.sql.session.SparkSession at 0x2706ae6ffd0>"
      ]
     },
     "execution_count": 3,
     "metadata": {},
     "output_type": "execute_result"
    }
   ],
   "source": [
    "spark "
   ]
  },
  {
   "cell_type": "markdown",
   "id": "07379837",
   "metadata": {},
   "source": [
    "## Data Extraction"
   ]
  },
  {
   "cell_type": "code",
   "execution_count": 20,
   "id": "bffb8bf7",
   "metadata": {},
   "outputs": [],
   "source": [
    "nuga_bank_df = spark.read.csv(r'C:\\Users\\David Ibanga\\Data Engineering practicals\\Nuga_bank\\nuga_bank_spark_etl\\dataset\\nuga_bank_transactions.csv', header = True, inferSchema=True)"
   ]
  },
  {
   "cell_type": "code",
   "execution_count": 15,
   "id": "ed043ebc",
   "metadata": {},
   "outputs": [
    {
     "name": "stdout",
     "output_type": "stream",
     "text": [
      "+--------------------+------+----------------+-----------------+--------------------+--------------------+--------------+--------------------+--------------------+--------------------+--------------------+-------------------+-------------------+--------------------+-------------+-------------+--------+-----+---------+--------------------+--------------------+------+--------------+\n",
      "|    Transaction_Date|Amount|Transaction_Type|    Customer_Name|    Customer_Address|       Customer_City|Customer_State|    Customer_Country|             Company|           Job_Title|               Email|       Phone_Number| Credit_Card_Number|                IBAN|Currency_Code|Random_Number|Category|Group|Is_Active|        Last_Updated|         Description|Gender|Marital_Status|\n",
      "+--------------------+------+----------------+-----------------+--------------------+--------------------+--------------+--------------------+--------------------+--------------------+--------------------+-------------------+-------------------+--------------------+-------------+-------------+--------+-----+---------+--------------------+--------------------+------+--------------+\n",
      "|2024-03-23 15:38:...| 34.76|      Withdrawal|       James Neal|54912 Holmes Lodg...|   West Keithborough|       Florida|                Togo|Benson, Johnson a...|                NULL|                NULL|  493.720.6609x7545|   3592901394693441|GB98RBPP090285271...|          MAD|       3167.0|       C|    Z|       No|2020-06-20 03:04:...|Yeah food anythin...| Other|      Divorced|\n",
      "|2024-04-22 19:15:...|163.92|      Withdrawal|      Thomas Long| 1133 Collin Passage|          Joshuabury|   Connecticut|Lao People's Demo...|                NULL|   Food technologist|michellelynch@exa...|      (497)554-3317|               NULL|GB03KFZR339662263...|          VEF|       2122.0|       B|    Z|     NULL|2020-12-27 13:23:...|Teach edge make n...|Female|       Married|\n",
      "|2024-04-12 19:46:...|386.32|      Withdrawal|   Ashley Shelton|5297 Johnson Port...|         North Maria|    New Jersey|              Bhutan|       Jones-Mueller|Database administ...| ljordan@example.org|      (534)769-3072|       675983949974|GB59QYRN446730519...|          COP|       7796.0|       C|    Z|       No|2020-01-24 01:23:...|Again line face c...| Other|          NULL|\n",
      "|2024-04-17 15:29:...|407.15|         Deposit|    James Rosario|56955 Moore Glens...|  North Michellefurt|    New Mexico|             Iceland|       Vargas-Harris|Horticultural the...|parkerjames@examp...|+1-447-900-1320x257|      4761202519057|GB74FTDO268299438...|          BWP|       6284.0|       C|    Z|      Yes|2023-09-27 03:01:...|     Bag my a drive.|  NULL|          NULL|\n",
      "|2024-02-10 01:51:...|161.31|         Deposit|   Miguel Leonard|262 Beck Expressw...|                NULL| West Virginia|             Eritrea|Richardson, Gonza...|   Minerals surveyor| zweaver@example.net|               NULL|    213156729655186|GB94EWRN587847592...|          SOS|       9179.0|       C|    Y|       No|2022-01-22 19:08:...|Husband find ok w...|Female|       Married|\n",
      "|2024-02-10 22:56:...|764.34|        Transfer|      Jesse Clark|      194 Derek Burg|        Wallacemouth|    New Mexico|             Estonia|           Smith Ltd| Seismic interpreter|benjaminwalker@ex...|   229-511-2530x870|       501851472974|                NULL|          ZWD|         NULL|       B|    Z|      Yes|2023-02-18 19:26:...|                NULL| Other|       Married|\n",
      "|2024-04-07 00:07:...|734.59|         Deposit|       Mark Estes|4077 James Lane A...|      Williamsonport|      Michigan|Antarctica (the t...|         Wade-Kelley|  Surveyor, minerals|karenrobinson@exa...|      (840)334-1610|4543690154172468535|GB55FCPC779828821...|          CAD|       7304.0|       A|    X|      Yes|2020-10-27 16:48:...|Standard prepare ...|  Male|          NULL|\n",
      "|2024-03-08 01:51:...|592.43|         Deposit|       Kelly Ruiz|                NULL|          New Lauren|          NULL|                NULL|                NULL|Medical laborator...|  iestes@example.org| 495.430.4276x42618|      4500718397537|GB78FDAJ595830659...|          RON|       2445.0|       B|    X|       No|2022-11-19 08:59:...|                NULL|Female|        Single|\n",
      "|2024-04-02 06:21:...|472.35|        Transfer|             NULL|1467 Heather Vill...|         Conniemouth|          NULL|               Macao|Ellis, Smith and ...|Television/film/v...|rebeccarodriguez@...|       511.666.5891|      4884893247570|GB91HQDO449272193...|          LTL|       2721.0|    NULL|    Z|       No|                NULL|Leg out walk rece...| Other|          NULL|\n",
      "|2024-02-01 12:34:...| 927.1|         Deposit|        Brad Yang|    579 Nolan Harbor|South Christopher...|  South Dakota|                NULL|         Lindsey LLC|Programmer, appli...|maryduran@example...|  (241)738-0972x658|    180039947294310|GB48WNWB013807482...|          HRK|       3061.0|       B|    X|       No|2020-08-31 20:40:...|Notice paper son ...|Female|        Single|\n",
      "|2024-03-22 16:46:...| 66.59|        Transfer|   Dalton Jimenez|4330 Christine Vista|        Port Kirsten|          NULL|            Cameroon|         Carroll LLC|                NULL|                NULL|       670-499-0309|    213171934267032|GB05MHXA361278613...|          BAM|       3958.0|    NULL| NULL|      Yes|2022-09-19 03:52:...|He wish soldier t...|  Male|        Single|\n",
      "|2024-04-23 13:30:...| 246.3|      Withdrawal|   Paige Sheppard|0947 Mendez Under...|          Medinastad|North Carolina|             Iceland|                NULL|     Sales executive|  eric64@example.net|               NULL|    342940028197162|GB54HHLQ489156729...|          ZWD|       8312.0|    NULL|    Z|      Yes|2023-06-02 04:34:...|This speak buildi...|  Male|      Divorced|\n",
      "|2024-04-24 20:44:...| 17.74|        Transfer|        Ryan Rice|63191 Carol River...|       North Heather|      Virginia|               Gabon|     Arnold-Hamilton|Biomedical scientist|gonzalestammy@exa...|      (891)958-6442|   4263644221766495|GB47BGNG208602249...|          AOA|       6148.0|       D|    Y|       No|                NULL|Camera spring tea...|Female|          NULL|\n",
      "|2024-02-23 05:48:...|640.74|      Withdrawal|   Danielle Young| 8484 Kelley Circles|           Karahaven|    New Jersey|            Dominica|        Fox and Sons|Operational inves...| maria62@example.net|               NULL|       675908517708|GB92DFSO760691881...|          TJS|         NULL|       B|    Z|      Yes|                NULL|Occur second offe...|Female|       Married|\n",
      "|2024-01-13 01:22:...|782.32|      Withdrawal|   Stephen Nguyen|    01696 Brown Cape|          South Mary|       Wyoming|Heard Island and ...|Lynch, Hayes and ...|       Stage manager|stewartjames@exam...|  680-460-3674x6031|   4304956118653227|GB15VYWJ018711823...|          NIO|       2502.0|       B|    Y|      Yes|2021-04-12 20:23:...|Rest theory serve...|  NULL|       Married|\n",
      "|2024-02-25 15:16:...|818.42|      Withdrawal|    Renee Roberts|7591 Ponce Unions...|          Amandaside| Massachusetts|            Barbados|           Green Ltd|Psychologist, pri...|                NULL|       695-680-5744|   6011259703732723|GB34HWCA758164830...|          AFN|       4452.0|       C| NULL|       No|2023-07-09 08:03:...|Program sense arm...|  Male|          NULL|\n",
      "|2024-01-01 20:55:...|352.23|      Withdrawal|Jacqueline Thomas|172 Morse Falls A...|         Bennettbury|      Oklahoma|                Fiji|                NULL|Designer, blown g...|  mark84@example.com| 484.837.6166x81262|     30287519972043|GB62WWAH360646956...|          VUV|       2251.0|       C|    Z|      Yes|2022-02-07 00:48:...|Prepare other los...|Female|        Single|\n",
      "|2024-01-19 00:01:...|316.19|      Withdrawal|     Joseph Pratt|71283 Thomas Port...|        Lake Michele|        Nevada|     Kyrgyz Republic|     Morris-Reynolds|          Podiatrist|robert02@example.com| 623.219.7997x39012|   3555463260975431|GB28XTGC966091493...|          PHP|       2208.0|       C|    Y|      Yes|2023-10-16 00:05:...|Blood painting sp...| Other|       Married|\n",
      "|2024-04-09 14:40:...|662.26|      Withdrawal|        Tara Gray|    3476 Johnny Loaf|     South Davidland|     Tennessee|               Tonga|         Sutton-Owen|   Financial planner|ewilliams@example...|               NULL|   6517022443907149|GB64TDZA391035546...|          GNF|         NULL|       C|    X|      Yes|2022-04-21 21:43:...|Station professio...| Other|       Married|\n",
      "|2024-04-15 04:58:...|893.73|         Deposit|  Dominique Lynch|   181 Gregory Ferry|           Jamesfort|         Maine|               Kenya|         Brown Group|Nutritional thera...|suzanne41@example...|       448-821-0207|   3564854271916761|GB58VVHN678787830...|          AED|       2546.0|       B|    Y|      Yes|2021-09-14 07:15:...|Letter hand soldi...| Other|       Married|\n",
      "+--------------------+------+----------------+-----------------+--------------------+--------------------+--------------+--------------------+--------------------+--------------------+--------------------+-------------------+-------------------+--------------------+-------------+-------------+--------+-----+---------+--------------------+--------------------+------+--------------+\n",
      "only showing top 20 rows\n",
      "\n"
     ]
    }
   ],
   "source": [
    "nuga_bank_df.show()"
   ]
  },
  {
   "cell_type": "code",
   "execution_count": 16,
   "id": "c66d849f",
   "metadata": {},
   "outputs": [
    {
     "name": "stdout",
     "output_type": "stream",
     "text": [
      "root\n",
      " |-- Transaction_Date: timestamp (nullable = true)\n",
      " |-- Amount: double (nullable = true)\n",
      " |-- Transaction_Type: string (nullable = true)\n",
      " |-- Customer_Name: string (nullable = true)\n",
      " |-- Customer_Address: string (nullable = true)\n",
      " |-- Customer_City: string (nullable = true)\n",
      " |-- Customer_State: string (nullable = true)\n",
      " |-- Customer_Country: string (nullable = true)\n",
      " |-- Company: string (nullable = true)\n",
      " |-- Job_Title: string (nullable = true)\n",
      " |-- Email: string (nullable = true)\n",
      " |-- Phone_Number: string (nullable = true)\n",
      " |-- Credit_Card_Number: long (nullable = true)\n",
      " |-- IBAN: string (nullable = true)\n",
      " |-- Currency_Code: string (nullable = true)\n",
      " |-- Random_Number: double (nullable = true)\n",
      " |-- Category: string (nullable = true)\n",
      " |-- Group: string (nullable = true)\n",
      " |-- Is_Active: string (nullable = true)\n",
      " |-- Last_Updated: timestamp (nullable = true)\n",
      " |-- Description: string (nullable = true)\n",
      " |-- Gender: string (nullable = true)\n",
      " |-- Marital_Status: string (nullable = true)\n",
      "\n"
     ]
    }
   ],
   "source": [
    "nuga_bank_df.printSchema()"
   ]
  },
  {
   "cell_type": "markdown",
   "id": "564124ae",
   "metadata": {},
   "source": [
    "## Data Cleaning And Transformation"
   ]
  },
  {
   "cell_type": "code",
   "execution_count": 21,
   "id": "f66ddcfa",
   "metadata": {},
   "outputs": [
    {
     "data": {
      "text/plain": [
       "['Transaction_Date',\n",
       " 'Amount',\n",
       " 'Transaction_Type',\n",
       " 'Customer_Name',\n",
       " 'Customer_Address',\n",
       " 'Customer_City',\n",
       " 'Customer_State',\n",
       " 'Customer_Country',\n",
       " 'Company',\n",
       " 'Job_Title',\n",
       " 'Email',\n",
       " 'Phone_Number',\n",
       " 'Credit_Card_Number',\n",
       " 'IBAN',\n",
       " 'Currency_Code',\n",
       " 'Random_Number',\n",
       " 'Category',\n",
       " 'Group',\n",
       " 'Is_Active',\n",
       " 'Last_Updated',\n",
       " 'Description',\n",
       " 'Gender',\n",
       " 'Marital_Status']"
      ]
     },
     "execution_count": 21,
     "metadata": {},
     "output_type": "execute_result"
    }
   ],
   "source": [
    "nuga_bank_df.columns"
   ]
  },
  {
   "cell_type": "code",
   "execution_count": null,
   "id": "5b8926bc",
   "metadata": {},
   "outputs": [
    {
     "name": "stdout",
     "output_type": "stream",
     "text": [
      "Number of rows: 1000000\n"
     ]
    }
   ],
   "source": [
    "# Number of rows \n",
    "num_rows = nuga_bank_df.count()\n",
    "print(f\"Number of rows: {num_rows}\")"
   ]
  },
  {
   "cell_type": "code",
   "execution_count": 23,
   "id": "197ba34e",
   "metadata": {},
   "outputs": [
    {
     "name": "stdout",
     "output_type": "stream",
     "text": [
      "Number of columns: 23\n"
     ]
    }
   ],
   "source": [
    "#number of columns\n",
    "num_columns = len(nuga_bank_df.columns)\n",
    "print(f\"Number of columns: {num_columns}\")"
   ]
  },
  {
   "cell_type": "code",
   "execution_count": 28,
   "id": "213f1ae1",
   "metadata": {},
   "outputs": [
    {
     "name": "stdout",
     "output_type": "stream",
     "text": [
      "Transaction_Date Nulls 0\n",
      "Amount Nulls 0\n",
      "Transaction_Type Nulls 0\n",
      "Customer_Name Nulls 100425\n",
      "Customer_Address Nulls 100087\n",
      "Customer_City Nulls 100034\n",
      "Customer_State Nulls 100009\n",
      "Customer_Country Nulls 100672\n",
      "Company Nulls 100295\n",
      "Job_Title Nulls 99924\n",
      "Email Nulls 100043\n",
      "Phone_Number Nulls 100524\n",
      "Credit_Card_Number Nulls 100085\n",
      "IBAN Nulls 100300\n",
      "Currency_Code Nulls 99342\n",
      "Random_Number Nulls 99913\n",
      "Category Nulls 100332\n",
      "Group Nulls 100209\n",
      "Is_Active Nulls 100259\n",
      "Last_Updated Nulls 100321\n",
      "Description Nulls 100403\n",
      "Gender Nulls 99767\n",
      "Marital_Status Nulls 99904\n"
     ]
    }
   ],
   "source": [
    "#checking for null values\n",
    "for column in nuga_bank_df.columns:\n",
    "    print(column, 'Nulls', nuga_bank_df.filter(nuga_bank_df[column].isNull()).count())"
   ]
  },
  {
   "cell_type": "code",
   "execution_count": 34,
   "id": "046a4f32",
   "metadata": {},
   "outputs": [],
   "source": [
    "# How to fill up missing values\n",
    "nuga_bank_df_clean = nuga_bank_df.fillna({\n",
    "    'Customer_Name':'Unknown',\n",
    "    'Customer_Address':'Unknown',\n",
    "    'Customer_City':'Unknown',\n",
    "    'Customer_State':'Unknown',\n",
    "    'Customer_Country':'Unknown',\n",
    "    'Company':'Unknown',\n",
    "    'Job_Title':'Unknown',\n",
    "    'Email':'Unknown',\n",
    "    'Phone_Number':'Unknown',\n",
    "    'Credit_Card_Number':'0',\n",
    "    'IBAN':'Unknown',\n",
    "    'Currency_Code':'Unknown',\n",
    "    'Random_Number':'0.0',\n",
    "    'Category':'Unknown',\n",
    "    'Group':'Unknown',\n",
    "    'Is_Active':'Unknown',\n",
    "    'Description':'Unknown',\n",
    "    'Gender':'Unknown',\n",
    "    'Marital_Status':'Unknown',\n",
    "})"
   ]
  },
  {
   "cell_type": "code",
   "execution_count": 37,
   "id": "6fc7d894",
   "metadata": {},
   "outputs": [],
   "source": [
    "#Drop rows where last_updated is null\n",
    "nuga_bank_df_clean = nuga_bank_df_clean.dropna(subset=['Last_Updated'])"
   ]
  },
  {
   "cell_type": "code",
   "execution_count": 38,
   "id": "4038ddca",
   "metadata": {},
   "outputs": [
    {
     "name": "stdout",
     "output_type": "stream",
     "text": [
      "Transaction_Date Nulls 0\n",
      "Amount Nulls 0\n",
      "Transaction_Type Nulls 0\n",
      "Customer_Name Nulls 0\n",
      "Customer_Address Nulls 0\n",
      "Customer_City Nulls 0\n",
      "Customer_State Nulls 0\n",
      "Customer_Country Nulls 0\n",
      "Company Nulls 0\n",
      "Job_Title Nulls 0\n",
      "Email Nulls 0\n",
      "Phone_Number Nulls 0\n",
      "Credit_Card_Number Nulls 0\n",
      "IBAN Nulls 0\n",
      "Currency_Code Nulls 0\n",
      "Random_Number Nulls 0\n",
      "Category Nulls 0\n",
      "Group Nulls 0\n",
      "Is_Active Nulls 0\n",
      "Last_Updated Nulls 0\n",
      "Description Nulls 0\n",
      "Gender Nulls 0\n",
      "Marital_Status Nulls 0\n"
     ]
    }
   ],
   "source": [
    "#checking for null values\n",
    "for column in nuga_bank_df_clean.columns:\n",
    "    print(column, 'Nulls', nuga_bank_df_clean.filter(nuga_bank_df_clean[column].isNull()).count())"
   ]
  },
  {
   "cell_type": "code",
   "execution_count": 39,
   "id": "3bc37b36",
   "metadata": {},
   "outputs": [
    {
     "name": "stdout",
     "output_type": "stream",
     "text": [
      "Number of rows after cleaning: 899679\n"
     ]
    }
   ],
   "source": [
    "#no of rows\n",
    "num_rows = nuga_bank_df_clean.count()\n",
    "print(f\"Number of rows after cleaning: {num_rows}\")"
   ]
  },
  {
   "cell_type": "code",
   "execution_count": 40,
   "id": "53aba61d",
   "metadata": {},
   "outputs": [
    {
     "name": "stdout",
     "output_type": "stream",
     "text": [
      "+-------+------------------+----------------+-------------+--------------------+-------------+--------------+----------------+-------------+------------------+-------------------+--------------------+--------------------+--------------------+-------------+------------------+--------+-------+---------+--------------------+-------+--------------+\n",
      "|summary|            Amount|Transaction_Type|Customer_Name|    Customer_Address|Customer_City|Customer_State|Customer_Country|      Company|         Job_Title|              Email|        Phone_Number|  Credit_Card_Number|                IBAN|Currency_Code|     Random_Number|Category|  Group|Is_Active|         Description| Gender|Marital_Status|\n",
      "+-------+------------------+----------------+-------------+--------------------+-------------+--------------+----------------+-------------+------------------+-------------------+--------------------+--------------------+--------------------+-------------+------------------+--------+-------+---------+--------------------+-------+--------------+\n",
      "|  count|            899679|          899679|       899679|              899679|       899679|        899679|          899679|       899679|            899679|             899679|              899679|              899679|              899679|       899679|            899679|  899679| 899679|   899679|              899679| 899679|        899679|\n",
      "|   mean|505.10367708927134|            NULL|         NULL|                NULL|         NULL|          NULL|            NULL|         NULL|              NULL|               NULL| 6.002851385999521E9|3.409662226750519E17|                NULL|         NULL| 4952.920380491264|    NULL|   NULL|     NULL|                NULL|   NULL|          NULL|\n",
      "| stddev|  285.794534330047|            NULL|         NULL|                NULL|         NULL|          NULL|            NULL|         NULL|              NULL|               NULL|2.3068371038619423E9|1.189655005733002...|                NULL|         NULL|2966.5434011515995|    NULL|   NULL|     NULL|                NULL|   NULL|          NULL|\n",
      "|    min|              10.0|         Deposit| Aaron Abbott|000 Aaron Landing...|    Aaronberg|       Alabama|     Afghanistan| Abbott Group|Academic librarian|            Unknown|       (200)201-4254|                   0|GB02AAAU191993009...|          AED|               0.0|       A|Unknown|       No|A American and to...| Female|      Divorced|\n",
      "|    max|            1000.0|      Withdrawal|    Zoe Young|             Unknown|  Zunigaville|       Wyoming|        Zimbabwe|Zuniga-Wilson|      Youth worker|zzuniga@example.org|             Unknown| 4999984361512569455|             Unknown|          ZWD|            9999.0| Unknown|      Z|      Yes|Yourself young ev...|Unknown|       Unknown|\n",
      "+-------+------------------+----------------+-------------+--------------------+-------------+--------------+----------------+-------------+------------------+-------------------+--------------------+--------------------+--------------------+-------------+------------------+--------+-------+---------+--------------------+-------+--------------+\n",
      "\n"
     ]
    }
   ],
   "source": [
    "# To view the summary statistics of the data\n",
    "nuga_bank_df_clean.describe().show()"
   ]
  },
  {
   "cell_type": "code",
   "execution_count": 41,
   "id": "c82c1266",
   "metadata": {},
   "outputs": [
    {
     "data": {
      "text/plain": [
       "['Transaction_Date',\n",
       " 'Amount',\n",
       " 'Transaction_Type',\n",
       " 'Customer_Name',\n",
       " 'Customer_Address',\n",
       " 'Customer_City',\n",
       " 'Customer_State',\n",
       " 'Customer_Country',\n",
       " 'Company',\n",
       " 'Job_Title',\n",
       " 'Email',\n",
       " 'Phone_Number',\n",
       " 'Credit_Card_Number',\n",
       " 'IBAN',\n",
       " 'Currency_Code',\n",
       " 'Random_Number',\n",
       " 'Category',\n",
       " 'Group',\n",
       " 'Is_Active',\n",
       " 'Last_Updated',\n",
       " 'Description',\n",
       " 'Gender',\n",
       " 'Marital_Status']"
      ]
     },
     "execution_count": 41,
     "metadata": {},
     "output_type": "execute_result"
    }
   ],
   "source": [
    "nuga_bank_df_clean.columns"
   ]
  },
  {
   "cell_type": "code",
   "execution_count": 42,
   "id": "31a7468b",
   "metadata": {},
   "outputs": [],
   "source": [
    "# Transaction Table\n",
    "transaction =nuga_bank_df_clean.select(\n",
    "    'Transaction_Date', 'Amount','Transaction_Type'\n",
    ")"
   ]
  },
  {
   "cell_type": "code",
   "execution_count": 45,
   "id": "7b74fc85",
   "metadata": {},
   "outputs": [],
   "source": [
    "# Adding the transactions ID column\n",
    "transaction = transaction.withColumn('transaction_id', monotonically_increasing_id())"
   ]
  },
  {
   "cell_type": "code",
   "execution_count": 50,
   "id": "9e9f42f0",
   "metadata": {},
   "outputs": [],
   "source": [
    "#Reordering the columns\n",
    "transaction = transaction.select('transaction_id', 'Transaction_Date', 'Amount', 'Transaction_Type')"
   ]
  },
  {
   "cell_type": "code",
   "execution_count": 51,
   "id": "098f415c",
   "metadata": {},
   "outputs": [
    {
     "name": "stdout",
     "output_type": "stream",
     "text": [
      "+--------------+--------------------+------+----------------+\n",
      "|transaction_id|    Transaction_Date|Amount|Transaction_Type|\n",
      "+--------------+--------------------+------+----------------+\n",
      "|             0|2024-03-23 15:38:...| 34.76|      Withdrawal|\n",
      "|             1|2024-04-22 19:15:...|163.92|      Withdrawal|\n",
      "|             2|2024-04-12 19:46:...|386.32|      Withdrawal|\n",
      "|             3|2024-04-17 15:29:...|407.15|         Deposit|\n",
      "|             4|2024-02-10 01:51:...|161.31|         Deposit|\n",
      "|             5|2024-02-10 22:56:...|764.34|        Transfer|\n",
      "|             6|2024-04-07 00:07:...|734.59|         Deposit|\n",
      "|             7|2024-03-08 01:51:...|592.43|         Deposit|\n",
      "|             8|2024-02-01 12:34:...| 927.1|         Deposit|\n",
      "|             9|2024-03-22 16:46:...| 66.59|        Transfer|\n",
      "|            10|2024-04-23 13:30:...| 246.3|      Withdrawal|\n",
      "|            11|2024-01-13 01:22:...|782.32|      Withdrawal|\n",
      "|            12|2024-02-25 15:16:...|818.42|      Withdrawal|\n",
      "|            13|2024-01-01 20:55:...|352.23|      Withdrawal|\n",
      "|            14|2024-01-19 00:01:...|316.19|      Withdrawal|\n",
      "|            15|2024-04-09 14:40:...|662.26|      Withdrawal|\n",
      "|            16|2024-04-15 04:58:...|893.73|         Deposit|\n",
      "|            17|2024-04-12 14:32:...|746.22|      Withdrawal|\n",
      "|            18|2024-02-26 14:43:...|214.77|      Withdrawal|\n",
      "|            19|2024-01-17 14:50:...|726.94|      Withdrawal|\n",
      "+--------------+--------------------+------+----------------+\n",
      "only showing top 20 rows\n",
      "\n"
     ]
    }
   ],
   "source": [
    "transaction.show()"
   ]
  },
  {
   "cell_type": "code",
   "execution_count": 52,
   "id": "f3ccd5cc",
   "metadata": {},
   "outputs": [],
   "source": [
    "# Customer Table\n",
    "customer = nuga_bank_df_clean.select(\n",
    "'Customer_Name', 'Customer_Address', 'Customer_City',\n",
    "    'Customer_State', 'Customer_Country', 'Email',\n",
    "    'Phone_Number'\n",
    ")"
   ]
  },
  {
   "cell_type": "code",
   "execution_count": 57,
   "id": "4aaebde7",
   "metadata": {},
   "outputs": [],
   "source": [
    "#Add Id column\n",
    "customer = customer.withColumn('customer_id', monotonically_increasing_id()).distinct()\n",
    "\n",
    "#reorder the table\n",
    "customer = customer.select('customer_id', 'Customer_Name', 'Customer_Address', 'Customer_City',\n",
    "    'Customer_State', 'Customer_Country', 'Email', 'Phone_Number')"
   ]
  },
  {
   "cell_type": "code",
   "execution_count": 59,
   "id": "c010abe4",
   "metadata": {},
   "outputs": [
    {
     "data": {
      "text/plain": [
       "899679"
      ]
     },
     "execution_count": 59,
     "metadata": {},
     "output_type": "execute_result"
    }
   ],
   "source": [
    "customer.count()"
   ]
  },
  {
   "cell_type": "code",
   "execution_count": 58,
   "id": "b40fdf20",
   "metadata": {},
   "outputs": [
    {
     "name": "stdout",
     "output_type": "stream",
     "text": [
      "+-----------+-----------------+--------------------+--------------------+--------------+--------------------+--------------------+--------------------+\n",
      "|customer_id|    Customer_Name|    Customer_Address|       Customer_City|Customer_State|    Customer_Country|               Email|        Phone_Number|\n",
      "+-----------+-----------------+--------------------+--------------------+--------------+--------------------+--------------------+--------------------+\n",
      "|        176|Jonathan Williams|     429 Allen Shore|           Jamesside|  South Dakota|             Unknown|martinbrown@examp...|             Unknown|\n",
      "|        310|     Jessica Dunn|70041 Tapia Vista...|          New Amanda|       Wyoming|              Angola|   hmora@example.com|001-713-202-8704x219|\n",
      "|        639|     Jose Terrell| 152 Collins Landing|   North Charlesport|       Unknown|            Maldives|victoriamoore@exa...|    001-679-739-9215|\n",
      "|       1009|     Holly Fisher|          872 Le Rue|      Lake Alexander|      Nebraska|             Unknown|anthony05@example...|+1-401-821-5608x0...|\n",
      "|       1164|          Unknown|   1367 Ramirez Dale|          West Sarah|     Minnesota|Falkland Islands ...|turnersarah@examp...|    341-393-7906x985|\n",
      "|       1259|Jennifer Benjamin|854 Cortez Ridges...|           Jamestown| West Virginia|              Malawi|piercesarah@examp...|     +1-602-758-9098|\n",
      "|       1311|   Phillip Holmes|4187 Lisa Viaduct...|   South Staceyville|     Tennessee|Bosnia and Herzeg...|woodheather@examp...|001-394-389-4134x...|\n",
      "|       1490|        Tina Ford|  101 Arellano Ferry|Lake Christophers...|      Colorado|   Brunei Darussalam|nicolecook@exampl...|+1-446-650-8065x1925|\n",
      "|       1507|       Dustin May|434 Stuart Fort A...|          East Karen|      Illinois|                Guam|robert34@example.net|001-283-736-9996x...|\n",
      "|       2072|  Cheyenne Powell|3675 James Junctions|         East Andrew|      Nebraska|Saint Vincent and...|tiffany87@example...|    363.912.9851x531|\n",
      "|       2290|     Alan Andrews|2382 Aaron Key Ap...|             Unknown|        Kansas|               Benin|grahambrian@examp...|+1-308-982-8783x4...|\n",
      "|       2343|      Maria Weeks|  341 Samuel Station|          Suttontown|         Maine|           Lithuania|   sdiaz@example.net|        661.463.2777|\n",
      "|       3609|    Sheila Miller|5558 Mitchell Loo...|   Port Patriciatown|  South Dakota|      Czech Republic|william05@example...|        514.549.3653|\n",
      "|       3993|  Cynthia Farrell|     353 Cindy Inlet|          Butlerberg|  North Dakota|Central African R...|   lkane@example.com|       (950)865-4626|\n",
      "|       4199|      Carlos West|             Unknown|          Burnshaven|        Hawaii|              Turkey| keith69@example.net|          3889922381|\n",
      "|       4295|     Joy Williams|69318 Copeland Po...|   New Rodneyborough|       Wyoming|               Korea|wcochran@example.net|        495.727.6425|\n",
      "|       4339| Elizabeth Monroe| 613 Nathaniel Mills|     North Mistyview|      New York|            Dominica|             Unknown|       (475)585-5044|\n",
      "|       4353|     Michael King|  3206 Nicholas Path|          Floresberg|      Maryland|              Monaco| wbarnes@example.com|  974.979.4946x34925|\n",
      "|       4724|          Unknown|934 Merritt Exten...|             Unknown|          Utah|            Honduras|williamschristoph...|          6373446428|\n",
      "|       4931|   Melissa Taylor|     830 Robert Pike|     Calderonborough|  South Dakota|             Ireland|  cody50@example.com|    001-562-887-2252|\n",
      "+-----------+-----------------+--------------------+--------------------+--------------+--------------------+--------------------+--------------------+\n",
      "only showing top 20 rows\n",
      "\n"
     ]
    }
   ],
   "source": [
    "customer.show()"
   ]
  },
  {
   "cell_type": "code",
   "execution_count": 60,
   "id": "5fe86061",
   "metadata": {},
   "outputs": [],
   "source": [
    "#Employee Table\n",
    "employee = nuga_bank_df_clean.select(\n",
    "'Company','Job_Title', 'Gender', 'Marital_Status'\n",
    ")\n",
    "\n",
    "#Add Id column\n",
    "employee = employee.withColumn('employee_id', monotonically_increasing_id()).distinct()\n",
    "\n",
    "#reorder the table\n",
    "employee = employee.select('employee_id', 'Company','Job_Title', 'Gender', 'Marital_Status')"
   ]
  },
  {
   "cell_type": "code",
   "execution_count": 61,
   "id": "9ed6cf35",
   "metadata": {},
   "outputs": [
    {
     "name": "stdout",
     "output_type": "stream",
     "text": [
      "+-----------+--------------------+--------------------+-------+--------------+\n",
      "|employee_id|             Company|           Job_Title| Gender|Marital_Status|\n",
      "+-----------+--------------------+--------------------+-------+--------------+\n",
      "|        260|Thomas, Graham an...|Civil Service fas...|   Male|       Married|\n",
      "|        313|Booth, Cook and B...|             Unknown|Unknown|        Single|\n",
      "|        553|             Unknown|Primary school te...|   Male|        Single|\n",
      "|        665|Novak, Baker and Lee|         Media buyer|  Other|       Unknown|\n",
      "|        839|       Henderson LLC|Civil engineer, c...| Female|      Divorced|\n",
      "|       1009|Schultz, Contrera...|   Market researcher| Female|       Married|\n",
      "|       1146|             Unknown|    Financial trader|   Male|        Single|\n",
      "|       1184|             Unknown|  Furniture designer| Female|        Single|\n",
      "|       1356|      Collins-Powell|       Social worker| Female|      Divorced|\n",
      "|       1430|        Ramsey Group|Scientific labora...|   Male|      Divorced|\n",
      "|       1907|Wright, Jenkins a...|Medical laborator...|  Other|       Married|\n",
      "|       2588|Wells, Gibson and...|     Ophthalmologist|  Other|        Single|\n",
      "|       2764|           Carey LLC|Scientist, resear...|  Other|       Unknown|\n",
      "|       2834|      Villarreal PLC| Art gallery manager| Female|        Single|\n",
      "|       3000|         Stone-Smith|            Musician| Female|        Single|\n",
      "|       3269|Vang, Rios and Ra...| Trade mark attorney|   Male|        Single|\n",
      "|       3315|           Ware-King|    Graphic designer| Female|        Single|\n",
      "|       3765|      Nichols-Monroe|           Press sub|Unknown|       Unknown|\n",
      "|       3986|Floyd, Shields an...|Designer, ceramic...|   Male|        Single|\n",
      "|       4218|    Marshall-Navarro|Operational resea...|  Other|        Single|\n",
      "+-----------+--------------------+--------------------+-------+--------------+\n",
      "only showing top 20 rows\n",
      "\n"
     ]
    }
   ],
   "source": [
    "employee.show()"
   ]
  },
  {
   "cell_type": "code",
   "execution_count": 62,
   "id": "52beae59",
   "metadata": {},
   "outputs": [],
   "source": [
    "# Fact Table\n",
    "fact_table =nuga_bank_df_clean.join(customer, ['Customer_Name', 'Customer_Address', 'Customer_City',\n",
    "    'Customer_State', 'Customer_Country', 'Email', 'Phone_Number'], 'left') \\\n",
    "        .join(transaction, ['Transaction_Date', 'Amount', 'Transaction_Type'], 'left') \\\n",
    "        .join(employee, ['Company','Job_Title', 'Gender', 'Marital_Status'], 'left') \\\n",
    "            .select('transaction_id', 'customer_id', 'employee_id', 'Transaction_Date', \\\n",
    " 'Credit_Card_Number', 'IBAN', 'Currency_Code', 'Random_Number', 'Category', 'Group', \\\n",
    " 'Is_Active', 'Last_Updated', 'Description',)\n"
   ]
  },
  {
   "cell_type": "code",
   "execution_count": 63,
   "id": "94577c27",
   "metadata": {},
   "outputs": [
    {
     "name": "stdout",
     "output_type": "stream",
     "text": [
      "+--------------+-----------+-----------+--------------------+------------------+--------------------+-------------+-------------+--------+-----+---------+--------------------+--------------------+\n",
      "|transaction_id|customer_id|employee_id|    Transaction_Date|Credit_Card_Number|                IBAN|Currency_Code|Random_Number|Category|Group|Is_Active|        Last_Updated|         Description|\n",
      "+--------------+-----------+-----------+--------------------+------------------+--------------------+-------------+-------------+--------+-----+---------+--------------------+--------------------+\n",
      "|    8589934597| 8589934597| 8589934597|2024-03-12 14:08:...|      630428157006|GB86GLHT381589496...|      Unknown|       5000.0|       A|    Z|       No|2023-10-14 00:47:...|Everything decade...|\n",
      "|   25769803791|25769803791|25769803791|2024-01-08 00:20:...|    38082745081301|             Unknown|          DJF|          0.0|       A|    Z|      Yes|2021-05-24 05:28:...|Into because end....|\n",
      "|   17179869188|17179869188|17179869188|2024-03-04 03:11:...|     4021800082481|GB78UBAH195883770...|          LBP|       8097.0|       C|    X|      Yes|2023-07-11 06:06:...|Maybe teacher dee...|\n",
      "|   42949672965|42949672965|42949672965|2024-01-02 15:41:...|    30448552436896|             Unknown|          ISK|       1108.0|       A|    Y|       No|2022-12-06 03:53:...|Wrong part rest c...|\n",
      "|   17179869184|17179869184|17179869184|2024-02-23 11:54:...|   213133896337542|GB07IUUE487965913...|          ISK|          0.0|       D|    Y|       No|2023-08-16 10:32:...|Themselves make ago.|\n",
      "|   60129542154|60129542154|60129542154|2024-03-20 15:24:...|  3542448933285876|GB22VSFS474270337...|      Unknown|       6216.0|       A|    X|       No|2020-08-05 03:15:...|Meet PM worry who...|\n",
      "|   42949672978|42949672978|42949672978|2024-01-14 10:43:...|   213106153459068|             Unknown|      Unknown|       7296.0|       B|    Z|      Yes|2022-04-10 16:15:...|Surface among tru...|\n",
      "|            20|         20|         20|2024-03-05 23:45:...|   213186454811670|GB77SPMZ984195063...|          SOS|       7610.0|       C|    X|       No|2021-04-15 13:30:...|Concern remember ...|\n",
      "|   17179869193|17179869193|17179869193|2024-02-04 03:04:...|  6011177559558424|GB76DNER497098023...|          BZD|       6499.0|       D|    X|  Unknown|2020-02-09 13:11:...|Risk take recent ...|\n",
      "|   51539607566|51539607566|51539607566|2024-01-22 22:32:...|  6574717409681808|GB58ZWIH992989778...|          LSL|          0.0|       B|    Y|       No|2021-11-04 10:41:...|Any state recogni...|\n",
      "|   34359738381|34359738381|34359738381|2024-02-14 23:06:...|      639006216746|GB81CQQR004909975...|      Unknown|       8199.0|       B|    Y|       No|2024-03-31 18:51:...|Try step sound. B...|\n",
      "|   25769803788|25769803788|25769803788|2024-02-24 20:52:...|  2277452848592163|GB36UBKI615026373...|          ARS|       3608.0|       D|    Z|      Yes|2020-08-08 08:43:...|Game fund start w...|\n",
      "|   60129542144|60129542144|60129542144|2024-01-05 19:35:...|   345333404165465|GB96PUDP643655555...|          DJF|       3059.0|       B|    Z|      Yes|2022-07-22 21:01:...|Really conference...|\n",
      "|   42949672980|42949672980|42949672980|2024-04-19 05:04:...|  6507797348788197|GB31LUCU530383937...|          IRR|       5852.0|       D|    Y|       No|2024-03-09 12:39:...|     Dog peace fish.|\n",
      "|   25769803778|25769803778|25769803778|2024-01-01 00:11:...|  6011797984315254|GB87DZWW815695630...|          SRD|       9451.0|       D|    Z|      Yes|2021-12-31 10:31:...|Whom painting nat...|\n",
      "|   51539607565|51539607565|17179893948|2024-01-09 13:31:...|  6011153251503935|GB28FTRX421798999...|          CHF|       1792.0|       C|    Z|      Yes|2020-07-14 19:25:...|Compare sell bank...|\n",
      "|   51539607565|51539607565|17179935849|2024-01-09 13:31:...|  6011153251503935|GB28FTRX421798999...|          CHF|       1792.0|       C|    Z|      Yes|2020-07-14 19:25:...|Compare sell bank...|\n",
      "|   51539607565|51539607565|51539607565|2024-01-09 13:31:...|  6011153251503935|GB28FTRX421798999...|          CHF|       1792.0|       C|    Z|      Yes|2020-07-14 19:25:...|Compare sell bank...|\n",
      "|   25769803785|25769803785|25769803785|2024-02-09 08:43:...|  6011487394633278|GB21YRPY294696766...|          PAB|       3368.0|       C|    X|       No|2023-07-31 12:32:...|Enter ask remembe...|\n",
      "|   34359738382|34359738382|34359738382|2024-03-06 00:03:...|   180067592769732|GB92JVMY004197871...|          EGP|       7198.0|       A|    Z|      Yes|2023-10-12 22:25:...|Before story prof...|\n",
      "+--------------+-----------+-----------+--------------------+------------------+--------------------+-------------+-------------+--------+-----+---------+--------------------+--------------------+\n",
      "only showing top 20 rows\n",
      "\n"
     ]
    }
   ],
   "source": [
    "fact_table.show()"
   ]
  }
 ],
 "metadata": {
  "kernelspec": {
   "display_name": "pyspark_env",
   "language": "python",
   "name": "python3"
  },
  "language_info": {
   "codemirror_mode": {
    "name": "ipython",
    "version": 3
   },
   "file_extension": ".py",
   "mimetype": "text/x-python",
   "name": "python",
   "nbconvert_exporter": "python",
   "pygments_lexer": "ipython3",
   "version": "3.11.13"
  }
 },
 "nbformat": 4,
 "nbformat_minor": 5
}
